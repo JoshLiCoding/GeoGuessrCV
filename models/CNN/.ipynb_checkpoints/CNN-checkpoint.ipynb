{
 "cells": [
  {
   "cell_type": "markdown",
   "id": "a81465f1-b2d4-416d-9900-bac98003bfa6",
   "metadata": {},
   "source": [
    "# CNN"
   ]
  },
  {
   "cell_type": "code",
   "execution_count": 14,
   "id": "fafe75a7-f620-4451-82d8-ea76cb467c2c",
   "metadata": {
    "scrolled": true
   },
   "outputs": [],
   "source": [
    "import torch\n",
    "from torch.utils.data import Dataset, DataLoader\n",
    "import torch.nn as nn\n",
    "import os\n",
    "import numpy as np\n",
    "from tqdm import tqdm\n",
    "from PIL import Image"
   ]
  },
  {
   "cell_type": "code",
   "execution_count": 2,
   "id": "00b0be88-3f25-4916-a5be-74333951333a",
   "metadata": {},
   "outputs": [
    {
     "data": {
      "text/plain": [
       "<torch._C.Generator at 0x2724739a3d0>"
      ]
     },
     "execution_count": 2,
     "metadata": {},
     "output_type": "execute_result"
    }
   ],
   "source": [
    "torch.manual_seed(0)"
   ]
  },
  {
   "cell_type": "code",
   "execution_count": 27,
   "id": "3c8511ae-0b39-45fe-a353-d647b0d283a0",
   "metadata": {},
   "outputs": [],
   "source": [
    "class Data(Dataset):\n",
    "    def __init__(self):\n",
    "        img_list = []\n",
    "        class_list = []\n",
    "        for id, city in enumerate(tqdm(['Paris', 'Toronto', 'LosAngeles'])):\n",
    "            for i in range(300):\n",
    "                path = '../../images/' + city + 'Resized/' + str(i) + '.png'\n",
    "                if os.path.isfile(path):\n",
    "                    img = Image.open(path)\n",
    "                    img_list.append(np.array(img).tolist())\n",
    "                    class_list.append(id)\n",
    "        self.x = torch.tensor(img_list)\n",
    "        self.y = torch.tensor(class_list)\n",
    "        self.len = len(self.x)\n",
    "    def __getitem__(self, index):\n",
    "        return self.x[index], self.y[index]\n",
    "    def __len__(self):\n",
    "        return self.len"
   ]
  },
  {
   "cell_type": "code",
   "execution_count": 28,
   "id": "e0f022c9-43ae-4ee0-a319-740a09c44d12",
   "metadata": {},
   "outputs": [
    {
     "name": "stderr",
     "output_type": "stream",
     "text": [
      "100%|██████████████████████████████████████████████████████████████████████████████████████████████████████████████| 3/3 [00:21<00:00,  7.28s/it]\n"
     ]
    }
   ],
   "source": [
    "dset = Data()"
   ]
  },
  {
   "cell_type": "code",
   "execution_count": null,
   "id": "2faa2aee-c761-4e29-b5ac-0d98ec720db7",
   "metadata": {},
   "outputs": [],
   "source": [
    "class CNN(nn.Module):\n",
    "    def __init__(self):\n",
    "        super(CNN, self).__init__()\n",
    "        self.cnn1 = "
   ]
  }
 ],
 "metadata": {
  "kernelspec": {
   "display_name": "Python 3 (ipykernel)",
   "language": "python",
   "name": "python3"
  },
  "language_info": {
   "codemirror_mode": {
    "name": "ipython",
    "version": 3
   },
   "file_extension": ".py",
   "mimetype": "text/x-python",
   "name": "python",
   "nbconvert_exporter": "python",
   "pygments_lexer": "ipython3",
   "version": "3.10.11"
  }
 },
 "nbformat": 4,
 "nbformat_minor": 5
}
